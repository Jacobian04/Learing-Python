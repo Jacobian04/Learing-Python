{
 "cells": [
  {
   "cell_type": "markdown",
   "metadata": {},
   "source": [
    "# Dictionary\n",
    "* Like a list, a dictionary is a mutable collection of many values.\n",
    "* Indexes for dictionaries can use many different data types.\n",
    "* Indexes for dictionaries are called keys, and a key with its associated value is called a key-value pair.\n",
    "* In code, a dictionary is typed with braces, {}.\n",
    "\n",
    "my_dict = {\"name\":\"Max\", \"age\":28, \"city\":\"New York\"}"
   ]
  },
  {
   "cell_type": "markdown",
   "metadata": {},
   "source": [
    "### Create dictionary \n",
    "Create a dictionary with braces, or with the *built-in dict function*."
   ]
  },
  {
   "cell_type": "code",
   "execution_count": 11,
   "metadata": {},
   "outputs": [
    {
     "name": "stdout",
     "output_type": "stream",
     "text": [
      "<class 'dict'>\n",
      "{'size': 'fat', 'color': 'gray', 'disposition': 'loud', 'weight': 10}\n",
      "{'size': 'fat', 'color': 'gray', 'disposition': 'loud', 'weight': 10}\n"
     ]
    }
   ],
   "source": [
    "myCat = {\"size\": \"fat\", \"color\": \"gray\", \"disposition\": \"loud\", \"weight\" : 10}\n",
    "print(type(myCat))\n",
    "print(myCat)\n",
    "\n",
    "# or use the dict constructor, note: no quotes necessary for keys\n",
    "myCat_1 = dict(size = \"fat\", color = \"gray\", disposition = \"loud\", weight = 10)\n",
    "print(myCat_1)"
   ]
  },
  {
   "cell_type": "markdown",
   "metadata": {},
   "source": [
    "### Access items"
   ]
  },
  {
   "cell_type": "code",
   "execution_count": 12,
   "metadata": {},
   "outputs": [
    {
     "name": "stdout",
     "output_type": "stream",
     "text": [
      "10\n"
     ]
    }
   ],
   "source": [
    "weight_in_dict = myCat[\"weight\"]\n",
    "print(weight_in_dict)\n",
    "\n",
    "# KeyError if no key is found\n",
    "# print(myCat[\"height\"])"
   ]
  },
  {
   "cell_type": "markdown",
   "metadata": {},
   "source": [
    "### Add and change items"
   ]
  },
  {
   "cell_type": "code",
   "execution_count": 13,
   "metadata": {},
   "outputs": [
    {
     "name": "stdout",
     "output_type": "stream",
     "text": [
      "{'size': 'fat', 'color': 'gray', 'disposition': 'loud', 'weight': 10, 'height': 12}\n",
      "{'size': 'fat', 'color': 'orange', 'disposition': 'loud', 'weight': 10, 'height': 12}\n"
     ]
    }
   ],
   "source": [
    "# add a new key\n",
    "myCat[\"height\"] = 12\n",
    "print(myCat)\n",
    "\n",
    "# or overwrite the now existing key\n",
    "myCat[\"color\"] = \"orange\"\n",
    "print(myCat)"
   ]
  },
  {
   "cell_type": "code",
   "execution_count": null,
   "metadata": {},
   "outputs": [],
   "source": []
  }
 ],
 "metadata": {
  "interpreter": {
   "hash": "f475ad0d4a1afb40eda296315dcf93f12dead5dc4b8b11bdc06bd8198e08165c"
  },
  "kernelspec": {
   "display_name": "Python 3.8.8 64-bit ('base': conda)",
   "name": "python3"
  },
  "language_info": {
   "codemirror_mode": {
    "name": "ipython",
    "version": 3
   },
   "file_extension": ".py",
   "mimetype": "text/x-python",
   "name": "python",
   "nbconvert_exporter": "python",
   "pygments_lexer": "ipython3",
   "version": "3.8.8"
  },
  "orig_nbformat": 4
 },
 "nbformat": 4,
 "nbformat_minor": 2
}
